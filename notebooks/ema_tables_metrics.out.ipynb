{
 "cells": [
  {
   "cell_type": "markdown",
   "metadata": {},
   "source": [
    "# Performance Metrics Tables for EMA study\n",
    "\n",
    "John Curtin\n",
    "\n",
    "## Overview\n",
    "\n",
    "## Set up environment"
   ],
   "id": "8fabba25-4fb7-4c01-9756-7932bae4b891"
  },
  {
   "cell_type": "code",
   "execution_count": null,
   "metadata": {},
   "outputs": [
    {
     "output_type": "stream",
     "name": "stderr",
     "text": [
      "── Attaching core tidyverse packages ──────────────────────── tidyverse 2.0.0 ──\n",
      "✔ dplyr     1.1.4     ✔ readr     2.1.5\n",
      "✔ forcats   1.0.0     ✔ stringr   1.5.1\n",
      "✔ ggplot2   3.5.1     ✔ tibble    3.2.1\n",
      "✔ lubridate 1.9.3     ✔ tidyr     1.3.1\n",
      "✔ purrr     1.0.2     \n",
      "── Conflicts ────────────────────────────────────────── tidyverse_conflicts() ──\n",
      "✖ dplyr::filter() masks stats::filter()\n",
      "✖ dplyr::lag()    masks stats::lag()\n",
      "ℹ Use the conflicted package (<http://conflicted.r-lib.org/>) to force all conflicts to become errors"
     ]
    },
    {
     "output_type": "stream",
     "name": "stderr",
     "text": [
      "ℹ SHA-1 hash of file is \"a58e57da996d1b70bb9a5b58241325d6fd78890f\""
     ]
    }
   ],
   "source": [
    "# handle conflicts\n",
    "options(conflicts.policy = \"depends.ok\")\n",
    "\n",
    "library(kableExtra, exclude = \"group_rows\", quietly = TRUE)\n",
    "library(tidyverse, quietly = TRUE)\n"
   ],
   "id": "1b54c5c2-72b6-4c03-bb69-398043d95ce0"
  },
  {
   "cell_type": "markdown",
   "metadata": {},
   "source": [
    "## Make metrics df"
   ],
   "id": "c8708fb8-9e2a-4089-b29a-063fde65583c"
  },
  {
   "cell_type": "code",
   "execution_count": null,
   "metadata": {},
   "outputs": [],
   "source": [
    "metrics_week <- read_csv(file.path(path_models, \n",
    "                                   \"test_metrics_1week_0_v5_nested.csv\"),\n",
    "                         col_types = cols())\n",
    "metrics_day <- read_csv(file.path(path_models, \n",
    "                                  \"test_metrics_1day_0_v5_nested.csv\"),\n",
    "                        col_types = cols())\n",
    "metrics_hour <- read_csv(file.path(path_models, \n",
    "                                   \"test_metrics_1hour_0_v5_nested.csv\"),\n",
    "                         col_types = cols())\n"
   ],
   "id": "5c2e645c-ae24-42f5-9232-55c2ad1957be"
  },
  {
   "cell_type": "code",
   "execution_count": null,
   "metadata": {},
   "outputs": [],
   "source": [
    "metrics <- metrics_week |> \n",
    "  mutate(model = \"Week\") |> \n",
    "  bind_rows(metrics_day |> \n",
    "              mutate(model = \"Day\")) |> \n",
    "  bind_rows(metrics_hour |> \n",
    "              mutate(model = \"Hour\")) |> \n",
    "  group_by(.metric, model) |> \n",
    "  summarize(median = median(.estimate), .groups = \"drop\") |> \n",
    "  pivot_wider(names_from = model, values_from = median) |> \n",
    "  select(.metric, Week, Day, Hour)\n",
    "\n",
    "metrics <- metrics[c(4,5,6, 1, 3, 2),]\n",
    "\n",
    "metrics |> write_csv(here::here(\"notebooks/analysis_objects\", \"ema_metrics.csv\"))\n"
   ],
   "id": "e967176e-e2ea-4d31-a0fa-541db92afc4e"
  },
  {
   "cell_type": "code",
   "execution_count": null,
   "metadata": {},
   "outputs": [],
   "source": [
    "# footnote_table_metrics <- \"Areas under the receiver operating characteristic curves (auROCs) summarize the model's sensitivity and specificity over all possible decision thresholds. Sensitivity, specificity, balanced accuracy, positive predictive value, and negative predictive value are performance metrics calculated at a single decision threshold for each model determined with Youden’s index. All metrics represent median values across 30 held-out test sets.\" \n",
    "# \n",
    "# metrics |> \n",
    "#  mutate(.metric = case_when(.metric == \"roc_auc\" ~ \"auROC\",\n",
    "#                             .metric == \"sens\" ~ \"sensitivity\",\n",
    "#                             .metric == \"spec\" ~ \"specificity\",\n",
    "#                             .metric == \"bal_accuracy\" ~ \"balanced accuracy\",\n",
    "#                             .metric == \"ppv\" ~ \"positive predictive value\",\n",
    "#                             .metric == \"npv\" ~ \"negative predictive value\")) |> \n",
    "#  kbl(col.names = c(\"Metric\", \"Week\", \"Day\", \"Hour\"),\n",
    "#      booktabs = TRUE,\n",
    "#      digits = 2,\n",
    "#      align = c(\"l\", \"l\", \"l\", \"l\"),\n",
    "#      linesep = \"\",\n",
    "#      caption = \"Performance Metrics for Full models by Prediction Window\") |>  \n",
    "#   kable_styling(position = \"left\", latex_options = c(\"HOLD_position\")) |>  \n",
    "#   column_spec(column = 1, width = \"25em\") |>   \n",
    "#   kableExtra::footnote(general = c(footnote_table_metrics), threeparttable = TRUE)\n"
   ],
   "id": "de9e9a9d-51c5-44c7-95d6-e8dd60e0f6b7"
  },
  {
   "cell_type": "code",
   "execution_count": null,
   "metadata": {},
   "outputs": [
    {
     "output_type": "display_data",
     "metadata": {},
     "data": {
      "text/html": [
       "\n"
      ],
      "text/markdown": [
       "                       Week   Day   Hour\n",
       "  ------------------- ------ ----- ------\n",
       "                auROC  0.89        \n",
       "          sensitivity  0.82        \n",
       "          specificity  0.82        \n",
       "    balanced accuracy  0.83        \n"
      ]
     }
    }
   ],
   "source": [
    "metrics |>\n",
    "  slice(1:4) |>\n",
    "  mutate(Day = \"\", Hour = \"\") |>\n",
    "  mutate(.metric = case_when(.metric == \"roc_auc\" ~ \"auROC\",\n",
    "                        .metric == \"sens\" ~ \"sensitivity\",\n",
    "                        .metric == \"spec\" ~ \"specificity\",\n",
    "                        .metric == \"bal_accuracy\" ~ \"balanced accuracy\")) |>\n",
    "  kbl(col.names = c(\"\", \"Week\", \"Day\", \"Hour\"),\n",
    "    digits = 2,\n",
    "    align = c(\"r\", \"c\", \"c\", \"c\"),\n",
    "    linesep = \"\") |>\n",
    "  row_spec(row = 0, align = \"c\") |>\n",
    "  kable_styling(full_width = FALSE) |>\n",
    "  kable_classic(\"striped\") |>\n",
    "  column_spec(2, color  = \"red\", bold = TRUE)\n"
   ],
   "id": "87710008-fdba-4660-8d44-c5202e019a54"
  }
 ],
 "nbformat": 4,
 "nbformat_minor": 5,
 "metadata": {}
}
