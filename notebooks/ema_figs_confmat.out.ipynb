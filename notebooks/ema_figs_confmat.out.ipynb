{
 "cells": [
  {
   "cell_type": "markdown",
   "metadata": {},
   "source": [
    "# EMA Paper Confusion Matrices\n",
    "\n",
    "John Curtin\n",
    "\n",
    "## Set up environment"
   ],
   "id": "651aeece-40d2-4558-a5b6-1bd651a5c32b"
  },
  {
   "cell_type": "code",
   "execution_count": null,
   "metadata": {},
   "outputs": [
    {
     "output_type": "stream",
     "name": "stderr",
     "text": [
      "── Attaching core tidyverse packages ──────────────────────── tidyverse 2.0.0 ──\n",
      "✔ dplyr     1.1.4     ✔ readr     2.1.5\n",
      "✔ forcats   1.0.0     ✔ stringr   1.5.1\n",
      "✔ ggplot2   3.5.1     ✔ tibble    3.2.1\n",
      "✔ lubridate 1.9.3     ✔ tidyr     1.3.1\n",
      "✔ purrr     1.0.2     \n",
      "── Conflicts ────────────────────────────────────────── tidyverse_conflicts() ──\n",
      "✖ dplyr::filter() masks stats::filter()\n",
      "✖ dplyr::lag()    masks stats::lag()\n",
      "ℹ Use the conflicted package (<http://conflicted.r-lib.org/>) to force all conflicts to become errors"
     ]
    },
    {
     "output_type": "stream",
     "name": "stderr",
     "text": [
      "ℹ SHA-1 hash of file is \"a58e57da996d1b70bb9a5b58241325d6fd78890f\""
     ]
    }
   ],
   "source": [
    "# handle conflicts\n",
    "options(conflicts.policy = \"depends.ok\")\n",
    "\n",
    "library(tidyverse, quietly = TRUE)\n"
   ],
   "id": "709405f1-9c28-4d2d-ab4d-64ccc5f41f2f"
  },
  {
   "cell_type": "markdown",
   "metadata": {},
   "source": [
    "## Open preds dfs"
   ],
   "id": "1ce908c5-97ba-4163-b533-eddae75cb3f7"
  },
  {
   "cell_type": "code",
   "execution_count": null,
   "metadata": {},
   "outputs": [],
   "source": [
    "preds_week<- read_rds(file.path(path_models, \n",
    "                               \"outer_preds_1week_0_v5_nested_main.rds\"))\n",
    "preds_day<- read_rds(file.path(path_models, \n",
    "                              \"outer_preds_1day_0_v5_nested_main.rds\"))\n",
    "preds_hour<- read_rds(file.path(path_models, \n",
    "                               \"outer_preds_1hour_0_v5_nested_main.rds\")) \n"
   ],
   "id": "6a01a02a-383b-43e6-9e2c-6bd68670c4fb"
  }
 ],
 "nbformat": 4,
 "nbformat_minor": 5,
 "metadata": {}
}
