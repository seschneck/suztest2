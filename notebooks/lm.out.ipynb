{
 "cells": [
  {
   "cell_type": "markdown",
   "metadata": {},
   "source": [
    "# Linear model 1\n",
    "\n",
    "John Curtin\n",
    "\n",
    "Notice the use of `warning` and `message` as options for this code chunk. Currently (by design) all output is generated and these options are ignored for notebooks (they are respected in index.qmd with `echo: false` as a default). Quarto has some requests to allow suppression of messages, warnings, output, etc if desired. Stay tuned."
   ],
   "id": "efa22283-c3e2-4c6b-b303-cb530d0a39ee"
  },
  {
   "cell_type": "code",
   "execution_count": null,
   "metadata": {},
   "outputs": [
    {
     "output_type": "stream",
     "name": "stderr",
     "text": [
      "── Attaching core tidyverse packages ──────────────────────── tidyverse 2.0.0 ──\n",
      "✔ dplyr     1.1.4     ✔ readr     2.1.5\n",
      "✔ forcats   1.0.0     ✔ stringr   1.5.1\n",
      "✔ ggplot2   3.5.1     ✔ tibble    3.2.1\n",
      "✔ lubridate 1.9.3     ✔ tidyr     1.3.1\n",
      "✔ purrr     1.0.2     \n",
      "── Conflicts ────────────────────────────────────────── tidyverse_conflicts() ──\n",
      "✖ dplyr::filter() masks stats::filter()\n",
      "✖ dplyr::lag()    masks stats::lag()\n",
      "ℹ Use the conflicted package (<http://conflicted.r-lib.org/>) to force all conflicts to become errors"
     ]
    }
   ],
   "source": [
    "\n",
    "library(tidyverse)\n"
   ],
   "id": "182af399-b515-4d21-9c6b-a7eb605cef4a"
  },
  {
   "cell_type": "markdown",
   "metadata": {},
   "source": [
    "Fit the lm to our data"
   ],
   "id": "bd94652e-9b9a-45da-adc3-7a4838df81d8"
  },
  {
   "cell_type": "code",
   "execution_count": null,
   "metadata": {},
   "outputs": [
    {
     "output_type": "stream",
     "name": "stdout",
     "text": [
      "\n",
      "Call:\n",
      "lm(formula = dist ~ speed, data = cars)\n",
      "\n",
      "Residuals:\n",
      "    Min      1Q  Median      3Q     Max \n",
      "-29.069  -9.525  -2.272   9.215  43.201 \n",
      "\n",
      "Coefficients:\n",
      "            Estimate Std. Error t value Pr(>|t|)    \n",
      "(Intercept) -17.5791     6.7584  -2.601   0.0123 *  \n",
      "speed         3.9324     0.4155   9.464 1.49e-12 ***\n",
      "---\n",
      "Signif. codes:  0 '***' 0.001 '**' 0.01 '*' 0.05 '.' 0.1 ' ' 1\n",
      "\n",
      "Residual standard error: 15.38 on 48 degrees of freedom\n",
      "Multiple R-squared:  0.6511,    Adjusted R-squared:  0.6438 \n",
      "F-statistic: 89.57 on 1 and 48 DF,  p-value: 1.49e-12"
     ]
    },
    {
     "output_type": "stream",
     "name": "stdout",
     "text": [
      "# A tibble: 2 × 5\n",
      "  term        estimate std.error statistic  p.value\n",
      "  <chr>          <dbl>     <dbl>     <dbl>    <dbl>\n",
      "1 (Intercept)   -17.6      6.76      -2.60 1.23e- 2\n",
      "2 speed           3.93     0.416      9.46 1.49e-12"
     ]
    }
   ],
   "source": [
    "m <- lm (dist ~ speed, data = cars)\n",
    "summary(m)\n"
   ],
   "id": "0a160e6d-982c-4ef5-aa81-9fc8ad9746db"
  },
  {
   "cell_type": "markdown",
   "metadata": {},
   "source": [
    "Save the model to load and use in manuscript results section. Consider what should be saved. We might save the model object because you can get everything you need from it. But better still might be to save the output you need (e.g., tibble of coefficients and test statistics). In this example, we save both for the lm as demonstrations.\n",
    "\n",
    "NOTES:\n",
    "\n",
    "-   If saving the model object, note that some models from tidymodels (e.g., keras, maybe xgboost) may need [special procedure](https://rstudio.github.io/bundle/reference/bundle_workflows.html) for saving."
   ],
   "id": "50bdc7ad-c501-40e5-b3a8-f9dca3a01aa2"
  },
  {
   "cell_type": "code",
   "execution_count": null,
   "metadata": {},
   "outputs": [],
   "source": [
    "# can save tidied tables as csv.  This is preferred method for saving tables and we believe that saving the tables is likely the best choice for later access to results in index.qmd\n",
    "coeff_table |> write_csv(here::here(\"./notebooks/analysis_objects\", \"coeff_table.csv\"))\n",
    "\n",
    "# There may be situations where you need access to the model itself in index.qmd.  If so, model objects should be saved with saveRDS()\n",
    "m |> saveRDS(here::here(\"./notebooks/analysis_objects\", \"lm.rds\"))\n"
   ],
   "id": "b9e48d33-319d-4766-a2d2-ab6ff1acd5e1"
  }
 ],
 "nbformat": 4,
 "nbformat_minor": 5,
 "metadata": {}
}
