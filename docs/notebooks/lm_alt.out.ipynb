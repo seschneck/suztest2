{
 "cells": [
  {
   "cell_type": "markdown",
   "metadata": {},
   "source": [
    "#"
   ],
   "id": "adbc1161-482f-4999-a38a-c0cbd7014815"
  },
  {
   "cell_type": "code",
   "execution_count": null,
   "metadata": {},
   "outputs": [
    {
     "output_type": "stream",
     "name": "stderr",
     "text": [
      "── Attaching core tidyverse packages ──────────────────────── tidyverse 2.0.0 ──\n",
      "✔ dplyr     1.1.2     ✔ readr     2.1.4\n",
      "✔ forcats   1.0.0     ✔ stringr   1.5.0\n",
      "✔ ggplot2   3.4.2     ✔ tibble    3.2.1\n",
      "✔ lubridate 1.9.2     ✔ tidyr     1.3.0\n",
      "✔ purrr     1.0.1     \n",
      "── Conflicts ────────────────────────────────────────── tidyverse_conflicts() ──\n",
      "✖ dplyr::filter() masks stats::filter()\n",
      "✖ dplyr::lag()    masks stats::lag()\n",
      "ℹ Use the conflicted package (<http://conflicted.r-lib.org/>) to force all conflicts to become errors"
     ]
    }
   ],
   "source": [
    "\n",
    "# lm.qmd \n",
    "# When you remove the title, the line above displays as the Source in the index.html)\n",
    "# This file demonstrates how you could build your full results section as one notebook and then import it into index.qmd.  JJC does not think this is the best option but saving as an alternative for now\n",
    "\n",
    "library(tidyverse)\n"
   ],
   "id": "2e446d98-f230-4c00-9e46-264df5466b00"
  },
  {
   "cell_type": "code",
   "execution_count": null,
   "metadata": {},
   "outputs": [],
   "source": [
    "\n",
    "m <- lm (dist ~ speed, data = cars)\n",
    "sm <- summary(m)\n"
   ],
   "id": "bec88720-eb8e-40ac-8c18-523cb243b2b1"
  },
  {
   "cell_type": "markdown",
   "metadata": {},
   "source": [
    "This analysis was performed using a general linear model. The model shows an adjusted R-squared of 0.64 (rounded).\n",
    "\n",
    "These results supported our hypotheses with a p-value of 0.0123188."
   ],
   "id": "7dab4f93-b6af-4b6c-8ede-0aac4f44ea3f"
  }
 ],
 "nbformat": 4,
 "nbformat_minor": 5,
 "metadata": {}
}
